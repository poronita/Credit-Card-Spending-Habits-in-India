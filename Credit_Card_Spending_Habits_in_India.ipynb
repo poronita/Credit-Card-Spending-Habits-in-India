{
  "nbformat": 4,
  "nbformat_minor": 0,
  "metadata": {
    "colab": {
      "provenance": [],
      "toc_visible": true,
      "authorship_tag": "ABX9TyOWeKD+y9srtsgDZ981LpNr",
      "include_colab_link": true
    },
    "kernelspec": {
      "name": "python3",
      "display_name": "Python 3"
    },
    "language_info": {
      "name": "python"
    }
  },
  "cells": [
    {
      "cell_type": "markdown",
      "metadata": {
        "id": "view-in-github",
        "colab_type": "text"
      },
      "source": [
        "<a href=\"https://colab.research.google.com/github/poronita/Credit-Card-Spending-Habits-in-India/blob/main/Credit_Card_Spending_Habits_in_India.ipynb\" target=\"_parent\"><img src=\"https://colab.research.google.com/assets/colab-badge.svg\" alt=\"Open In Colab\"/></a>"
      ]
    },
    {
      "cell_type": "code",
      "execution_count": 31,
      "metadata": {
        "id": "Ioi2EJf79iyH"
      },
      "outputs": [],
      "source": [
        "import pandas as pd\n",
        "import numpy as np\n",
        "import matplotlib.pyplot as plt\n",
        "import seaborn as sns\n",
        "from sklearn.model_selection import train_test_split\n",
        "from sklearn.preprocessing import StandardScaler\n"
      ]
    },
    {
      "cell_type": "code",
      "source": [
        "# Load the data\n",
        "file_path = \"/content/Credit card transactions - India - Simple.csv\"\n",
        "data = pd.read_csv(file_path)"
      ],
      "metadata": {
        "id": "rQJsprFFAso-"
      },
      "execution_count": 4,
      "outputs": []
    },
    {
      "cell_type": "code",
      "source": [
        "# Convert date to datetime and fill missing values or drop duplicates if necessary\n",
        "data['Date'] = pd.to_datetime(data['Date'], errors='coerce')\n",
        "data.dropna(inplace=True)"
      ],
      "metadata": {
        "id": "EC8nguLMh7Tj"
      },
      "execution_count": 32,
      "outputs": []
    },
    {
      "cell_type": "code",
      "source": [
        "# Removing outliers (simplified method)\n",
        "Q1 = data['Amount'].quantile(0.25)\n",
        "Q3 = data['Amount'].quantile(0.75)\n",
        "IQR = Q3 - Q1\n",
        "data = data[(data['Amount'] >= Q1 - 1.5 * IQR) & (data['Amount'] <= Q3 + 1.5 * IQR)]"
      ],
      "metadata": {
        "id": "ir9RlVGal7kI"
      },
      "execution_count": 33,
      "outputs": []
    },
    {
      "cell_type": "code",
      "source": [
        "# Assuming 'Amount' is the target and others are features\n",
        "X = data.drop(['Amount', 'Date'], axis=1)  # Drop Date for simplicity, or encode it\n",
        "y = data['Amount']\n",
        "\n",
        "# Convert categorical variables to dummy variables\n",
        "X = pd.get_dummies(X)\n",
        "\n",
        "# Splitting the dataset\n",
        "X_train, X_test, y_train, y_test = train_test_split(X, y, test_size=0.2, random_state=42)\n",
        "\n",
        "# Scaling features\n",
        "scaler = StandardScaler()\n",
        "X_train_scaled = scaler.fit_transform(X_train)\n",
        "X_test_scaled = scaler.transform(X_test)\n"
      ],
      "metadata": {
        "id": "w-PlOZyXl7hJ"
      },
      "execution_count": 38,
      "outputs": []
    },
    {
      "cell_type": "code",
      "source": [
        "from sklearn.metrics import mean_squared_error\n",
        "\n",
        "mse = mean_squared_error(y_test, predictions)\n",
        "print(f'Mean Squared Error: {mse}')\n"
      ],
      "metadata": {
        "colab": {
          "base_uri": "https://localhost:8080/"
        },
        "id": "K2mDxYVSl7bh",
        "outputId": "97dd0ced-5221-46e0-9d44-58057be8d7ea"
      },
      "execution_count": 39,
      "outputs": [
        {
          "output_type": "stream",
          "name": "stdout",
          "text": [
            "Mean Squared Error: 7479803580.305944\n"
          ]
        }
      ]
    },
    {
      "cell_type": "code",
      "source": [
        "# EDA and Visualizations for Dashboard\n",
        "# Monthly spending trend\n",
        "monthly_spending = data.groupby(data['Date'].dt.to_period('M'))['Amount'].sum().reset_index()\n",
        "monthly_spending['Date'] = monthly_spending['Date'].astype(str)  # Convert to string for plotting\n",
        "fig_monthly_trend = px.line(monthly_spending, x='Date', y='Amount', title='Monthly Spending Trend')"
      ],
      "metadata": {
        "id": "JQZFrmdHoZK4"
      },
      "execution_count": 40,
      "outputs": []
    },
    {
      "cell_type": "code",
      "source": [
        "# Top 10 Cities by Spending\n",
        "top_cities = data.groupby('City')['Amount'].sum().nlargest(10).reset_index()\n",
        "fig_top_cities = px.bar(top_cities, x='City', y='Amount', title='Top 10 Cities by Spending')\n",
        "\n"
      ],
      "metadata": {
        "id": "6eYe664HoZIa"
      },
      "execution_count": 41,
      "outputs": []
    },
    {
      "cell_type": "code",
      "source": [
        "# Dash App for Dashboard\n",
        "app = dash.Dash(__name__)\n",
        "app.layout = html.Div([\n",
        "    html.H1('Credit Card Spending Analysis Dashboard'),\n",
        "    dcc.Graph(figure=fig_monthly_trend),\n",
        "    dcc.Graph(figure=fig_top_cities),\n",
        "    # Add more dcc.Graph or html.Components for other analyses\n",
        "])\n",
        "\n",
        "if __name__ == '__main__':\n",
        "    app.run_server(debug=True)"
      ],
      "metadata": {
        "colab": {
          "base_uri": "https://localhost:8080/",
          "height": 671
        },
        "id": "3LZM2QjZoZF1",
        "outputId": "b21bdabd-cdff-4a19-e105-d3b92e512333"
      },
      "execution_count": 42,
      "outputs": [
        {
          "output_type": "display_data",
          "data": {
            "text/plain": [
              "<IPython.core.display.Javascript object>"
            ],
            "application/javascript": [
              "(async (port, path, width, height, cache, element) => {\n",
              "    if (!google.colab.kernel.accessAllowed && !cache) {\n",
              "      return;\n",
              "    }\n",
              "    element.appendChild(document.createTextNode(''));\n",
              "    const url = await google.colab.kernel.proxyPort(port, {cache});\n",
              "    const iframe = document.createElement('iframe');\n",
              "    iframe.src = new URL(path, url).toString();\n",
              "    iframe.height = height;\n",
              "    iframe.width = width;\n",
              "    iframe.style.border = 0;\n",
              "    iframe.allow = [\n",
              "        'accelerometer',\n",
              "        'autoplay',\n",
              "        'camera',\n",
              "        'clipboard-read',\n",
              "        'clipboard-write',\n",
              "        'gyroscope',\n",
              "        'magnetometer',\n",
              "        'microphone',\n",
              "        'serial',\n",
              "        'usb',\n",
              "        'xr-spatial-tracking',\n",
              "    ].join('; ');\n",
              "    element.appendChild(iframe);\n",
              "  })(8050, \"/\", \"100%\", 650, false, window.element)"
            ]
          },
          "metadata": {}
        }
      ]
    },
    {
      "cell_type": "code",
      "source": [],
      "metadata": {
        "id": "MPle5yZXoZDP"
      },
      "execution_count": null,
      "outputs": []
    }
  ]
}